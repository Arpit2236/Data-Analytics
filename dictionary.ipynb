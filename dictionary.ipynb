{
 "cells": [
  {
   "cell_type": "code",
   "execution_count": 1,
   "metadata": {},
   "outputs": [
    {
     "name": "stdout",
     "output_type": "stream",
     "text": [
      "{'English': 56, 'Hindi': 90, 'Maths': 34, 'Chemistry': 34, 'Evs': 56}\n"
     ]
    }
   ],
   "source": [
    "raju=[56,90,34,34,56]\n",
    "\n",
    "raju_dict={\n",
    "    'English' : 56,\n",
    "    'Hindi' : 90,\n",
    "    'Maths' : 34,\n",
    "    'Chemistry' : 34,\n",
    "    \"Evs\" : 56\n",
    "}\n",
    "\n",
    "print(raju_dict)"
   ]
  },
  {
   "cell_type": "code",
   "execution_count": 3,
   "metadata": {},
   "outputs": [],
   "source": [
    "company={\n",
    "    'emp001' : {\n",
    "        'name' : \"Amar Kumar\",\n",
    "        'designation' : 'Assistant III',\n",
    "        'salary' : 32000,\n",
    "    },\n",
    "    'emp002' : {\n",
    "        'name' : 'Ranu Singh',\n",
    "        'designation' : 'Staff Officer',\n",
    "        'salary' : 89000\n",
    "    },\n",
    "    'total_emp' : 2,\n",
    "    'department' : 'Accounts' ,\n",
    "    'vacancy' : ['clerk','manager','assistant I']\n",
    "}"
   ]
  },
  {
   "cell_type": "code",
   "execution_count": 5,
   "metadata": {},
   "outputs": [
    {
     "name": "stdout",
     "output_type": "stream",
     "text": [
      "{'emp001': {'name': 'Amar Kumar', 'designation': 'Assistant III', 'salary': 32000}, 'emp002': {'name': 'Ranu Singh', 'designation': 'Staff Officer', 'salary': 89000}, 'total_emp': 2, 'department': 'Accounts', 'vacancy': ['clerk', 'manager', 'assistant I'], 'name': 'Acme inc.'}\n"
     ]
    }
   ],
   "source": [
    "company['name'] = 'Acme inc.' # adding a key and value to dict\n",
    "print(company)"
   ]
  },
  {
   "cell_type": "code",
   "execution_count": 6,
   "metadata": {},
   "outputs": [],
   "source": [
    "company['total_emp'] = 3\n",
    "company['emp003'] = {\n",
    "    'name' : 'Ajay verma',\n",
    "    'designation' : 'clerk',\n",
    "    'salary' : 45000\n",
    "}\n"
   ]
  },
  {
   "cell_type": "code",
   "execution_count": 13,
   "metadata": {},
   "outputs": [],
   "source": [
    "# company['emp002']\n",
    "company.get('website')"
   ]
  },
  {
   "cell_type": "code",
   "execution_count": 15,
   "metadata": {},
   "outputs": [],
   "source": [
    "if 'website' in company:\n",
    "    print('website exists in dict')"
   ]
  },
  {
   "cell_type": "code",
   "execution_count": 16,
   "metadata": {},
   "outputs": [
    {
     "name": "stdout",
     "output_type": "stream",
     "text": [
      "dict_keys(['emp001', 'emp002', 'total_emp', 'department', 'vacancy', 'name', 'emp003'])\n",
      "dict_values([{'name': 'Amar Kumar', 'designation': 'Assistant III', 'salary': 32000}, {'name': 'Ranu Singh', 'designation': 'Staff Officer', 'salary': 89000}, 3, 'Accounts', ['clerk', 'manager', 'assistant I'], 'Acme inc.', {'name': 'Ajay verma', 'designation': 'clerk', 'salary': 45000}])\n"
     ]
    }
   ],
   "source": [
    "print(company.keys())\n",
    "print(company.values())"
   ]
  },
  {
   "cell_type": "code",
   "execution_count": 17,
   "metadata": {},
   "outputs": [
    {
     "name": "stdout",
     "output_type": "stream",
     "text": [
      "dict_items([('emp001', {'name': 'Amar Kumar', 'designation': 'Assistant III', 'salary': 32000}), ('emp002', {'name': 'Ranu Singh', 'designation': 'Staff Officer', 'salary': 89000}), ('total_emp', 3), ('department', 'Accounts'), ('vacancy', ['clerk', 'manager', 'assistant I']), ('name', 'Acme inc.'), ('emp003', {'name': 'Ajay verma', 'designation': 'clerk', 'salary': 45000})])\n"
     ]
    }
   ],
   "source": [
    "print(company.items())"
   ]
  },
  {
   "cell_type": "code",
   "execution_count": 20,
   "metadata": {},
   "outputs": [
    {
     "name": "stdout",
     "output_type": "stream",
     "text": [
      "{'name': 'Amar Kumar', 'designation': 'Assistant III', 'salary': 32000}\n",
      "{'name': 'Ranu Singh', 'designation': 'Staff Officer', 'salary': 89000}\n",
      "3\n",
      "Accounts\n",
      "['clerk', 'manager', 'assistant I']\n",
      "Acme inc.\n",
      "{'name': 'Ajay verma', 'designation': 'clerk', 'salary': 45000}\n"
     ]
    }
   ],
   "source": [
    "for i in company:\n",
    "    print(company[i])"
   ]
  },
  {
   "cell_type": "code",
   "execution_count": 25,
   "metadata": {},
   "outputs": [
    {
     "name": "stdout",
     "output_type": "stream",
     "text": [
      "emp001\n",
      "---> name Amar Kumar\n",
      "---> designation Assistant III\n",
      "---> salary 32000\n",
      "emp002\n",
      "---> name Ranu Singh\n",
      "---> designation Staff Officer\n",
      "---> salary 89000\n",
      "total_emp 3\n",
      "department Accounts\n",
      "vacancy ['clerk', 'manager', 'assistant I']\n",
      "name Acme inc.\n",
      "emp003\n",
      "---> name Ajay verma\n",
      "---> designation clerk\n",
      "---> salary 45000\n"
     ]
    }
   ],
   "source": [
    "for k, v in company.items():\n",
    "    if isinstance(v,dict):\n",
    "        print(k)\n",
    "        for key,value in v.items():\n",
    "            print(\"--->\",key,value)\n",
    "    else:\n",
    "        print(k,v)        "
   ]
  },
  {
   "cell_type": "code",
   "execution_count": 5,
   "metadata": {},
   "outputs": [
    {
     "name": "stdout",
     "output_type": "stream",
     "text": [
      "{'Banana': '45', 'Mango': '55'}\n"
     ]
    }
   ],
   "source": [
    "# wap to create a dictionary which takes user input for the item name and its price,the user can enter unlimited amount of items.\n",
    " \n",
    "dictionary = {}\n",
    "number_of_items = int(input(\"Enter the number of items: \"))\n",
    "for i in range(number_of_items):\n",
    "    item_name = input(\"Enter the item name: \")\n",
    "    price = input(\"Enter the item price: \")\n",
    "    dictionary[item_name] = price\n",
    "print(dictionary)"
   ]
  }
 ],
 "metadata": {
  "kernelspec": {
   "display_name": "base",
   "language": "python",
   "name": "python3"
  },
  "language_info": {
   "codemirror_mode": {
    "name": "ipython",
    "version": 3
   },
   "file_extension": ".py",
   "mimetype": "text/x-python",
   "name": "python",
   "nbconvert_exporter": "python",
   "pygments_lexer": "ipython3",
   "version": "3.10.10"
  },
  "orig_nbformat": 4
 },
 "nbformat": 4,
 "nbformat_minor": 2
}
