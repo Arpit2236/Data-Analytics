{
 "cells": [
  {
   "cell_type": "code",
   "execution_count": 1,
   "metadata": {},
   "outputs": [
    {
     "name": "stdout",
     "output_type": "stream",
     "text": [
      "{'English': 56, 'Hindi': 90, 'Maths': 34, 'Chemistry': 34, 'Evs': 56}\n"
     ]
    }
   ],
   "source": [
    "raju=[56,90,34,34,56]\n",
    "\n",
    "raju_dict={\n",
    "    'English' : 56,\n",
    "    'Hindi' : 90,\n",
    "    'Maths' : 34,\n",
    "    'Chemistry' : 34,\n",
    "    \"Evs\" : 56\n",
    "}\n",
    "\n",
    "print(raju_dict)"
   ]
  },
  {
   "cell_type": "code",
   "execution_count": 3,
   "metadata": {},
   "outputs": [],
   "source": [
    "company={\n",
    "    'emp001' : {\n",
    "        'name' : \"Amar Kumar\",\n",
    "        'designation' : 'Assistant III',\n",
    "        'salary' : 32000,\n",
    "    },\n",
    "    'emp002' : {\n",
    "        'name' : 'Ranu Singh',\n",
    "        'designation' : 'Staff Officer',\n",
    "        'salary' : 89000\n",
    "    },\n",
    "    'total_emp' : 2,\n",
    "    'department' : 'Accounts' ,\n",
    "    'vacancy' : ['clerk','manager','assistant I']\n",
    "}"
   ]
  },
  {
   "cell_type": "code",
   "execution_count": 5,
   "metadata": {},
   "outputs": [
    {
     "name": "stdout",
     "output_type": "stream",
     "text": [
      "{'emp001': {'name': 'Amar Kumar', 'designation': 'Assistant III', 'salary': 32000}, 'emp002': {'name': 'Ranu Singh', 'designation': 'Staff Officer', 'salary': 89000}, 'total_emp': 2, 'department': 'Accounts', 'vacancy': ['clerk', 'manager', 'assistant I'], 'name': 'Acme inc.'}\n"
     ]
    }
   ],
   "source": [
    "company['name'] = 'Acme inc.' # adding a key and value to dict\n",
    "print(company)"
   ]
  },
  {
   "cell_type": "code",
   "execution_count": 6,
   "metadata": {},
   "outputs": [],
   "source": [
    "company['total_emp'] = 3\n",
    "company['emp003'] = {\n",
    "    'name' : 'Ajay verma',\n",
    "    'designation' : 'clerk',\n",
    "    'salary' : 45000\n",
    "}\n"
   ]
  },
  {
   "cell_type": "code",
   "execution_count": 13,
   "metadata": {},
   "outputs": [],
   "source": [
    "# company['emp002']\n",
    "company.get('website')"
   ]
  },
  {
   "cell_type": "code",
   "execution_count": 15,
   "metadata": {},
   "outputs": [],
   "source": [
    "if 'website' in company:\n",
    "    print('website exists in dict')"
   ]
  },
  {
   "cell_type": "code",
   "execution_count": 16,
   "metadata": {},
   "outputs": [
    {
     "name": "stdout",
     "output_type": "stream",
     "text": [
      "dict_keys(['emp001', 'emp002', 'total_emp', 'department', 'vacancy', 'name', 'emp003'])\n",
      "dict_values([{'name': 'Amar Kumar', 'designation': 'Assistant III', 'salary': 32000}, {'name': 'Ranu Singh', 'designation': 'Staff Officer', 'salary': 89000}, 3, 'Accounts', ['clerk', 'manager', 'assistant I'], 'Acme inc.', {'name': 'Ajay verma', 'designation': 'clerk', 'salary': 45000}])\n"
     ]
    }
   ],
   "source": [
    "print(company.keys())\n",
    "print(company.values())"
   ]
  },
  {
   "cell_type": "code",
   "execution_count": 17,
   "metadata": {},
   "outputs": [
    {
     "name": "stdout",
     "output_type": "stream",
     "text": [
      "dict_items([('emp001', {'name': 'Amar Kumar', 'designation': 'Assistant III', 'salary': 32000}), ('emp002', {'name': 'Ranu Singh', 'designation': 'Staff Officer', 'salary': 89000}), ('total_emp', 3), ('department', 'Accounts'), ('vacancy', ['clerk', 'manager', 'assistant I']), ('name', 'Acme inc.'), ('emp003', {'name': 'Ajay verma', 'designation': 'clerk', 'salary': 45000})])\n"
     ]
    }
   ],
   "source": [
    "print(company.items())"
   ]
  },
  {
   "cell_type": "code",
   "execution_count": 20,
   "metadata": {},
   "outputs": [
    {
     "name": "stdout",
     "output_type": "stream",
     "text": [
      "{'name': 'Amar Kumar', 'designation': 'Assistant III', 'salary': 32000}\n",
      "{'name': 'Ranu Singh', 'designation': 'Staff Officer', 'salary': 89000}\n",
      "3\n",
      "Accounts\n",
      "['clerk', 'manager', 'assistant I']\n",
      "Acme inc.\n",
      "{'name': 'Ajay verma', 'designation': 'clerk', 'salary': 45000}\n"
     ]
    }
   ],
   "source": [
    "for i in company:\n",
    "    print(company[i])"
   ]
  },
  {
   "cell_type": "code",
   "execution_count": 25,
   "metadata": {},
   "outputs": [
    {
     "name": "stdout",
     "output_type": "stream",
     "text": [
      "emp001\n",
      "---> name Amar Kumar\n",
      "---> designation Assistant III\n",
      "---> salary 32000\n",
      "emp002\n",
      "---> name Ranu Singh\n",
      "---> designation Staff Officer\n",
      "---> salary 89000\n",
      "total_emp 3\n",
      "department Accounts\n",
      "vacancy ['clerk', 'manager', 'assistant I']\n",
      "name Acme inc.\n",
      "emp003\n",
      "---> name Ajay verma\n",
      "---> designation clerk\n",
      "---> salary 45000\n"
     ]
    }
   ],
   "source": [
    "for k, v in company.items():\n",
    "    if isinstance(v,dict):\n",
    "        print(k)\n",
    "        for key,value in v.items():\n",
    "            print(\"--->\",key,value)\n",
    "    else:\n",
    "        print(k,v)        "
   ]
  },
  {
   "cell_type": "code",
   "execution_count": 26,
   "metadata": {},
   "outputs": [
    {
     "ename": "TypeError",
     "evalue": "'dict' object is not callable",
     "output_type": "error",
     "traceback": [
      "\u001b[1;31m---------------------------------------------------------------------------\u001b[0m",
      "\u001b[1;31mTypeError\u001b[0m                                 Traceback (most recent call last)",
      "Cell \u001b[1;32mIn[26], line 4\u001b[0m\n\u001b[0;32m      1\u001b[0m \u001b[39m# wap to create a dictionary which takes user input for the item name and its price,the user can enter unlimited amount of items.\u001b[39;00m\n\u001b[0;32m      3\u001b[0m items_dict \u001b[39m=\u001b[39m{}\n\u001b[1;32m----> 4\u001b[0m \u001b[39mfor\u001b[39;00m k ,v \u001b[39min\u001b[39;00m items_dict(\u001b[39m5\u001b[39;49m):\n\u001b[0;32m      5\u001b[0m     \u001b[39minput\u001b[39m(\u001b[39m\"\u001b[39m\u001b[39mEnter key value pair\u001b[39m\u001b[39m\"\u001b[39m)\n\u001b[0;32m      6\u001b[0m \u001b[39mprint\u001b[39m(items_dict)\n",
      "\u001b[1;31mTypeError\u001b[0m: 'dict' object is not callable"
     ]
    }
   ],
   "source": [
    "# wap to create a dictionary which takes user input for the item name and its price,the user can enter unlimited amount of items.\n",
    "\n",
    "\n",
    "\n",
    "\n",
    "\n"
   ]
  },
  {
   "cell_type": "code",
   "execution_count": null,
   "metadata": {},
   "outputs": [],
   "source": []
  }
 ],
 "metadata": {
  "kernelspec": {
   "display_name": "base",
   "language": "python",
   "name": "python3"
  },
  "language_info": {
   "codemirror_mode": {
    "name": "ipython",
    "version": 3
   },
   "file_extension": ".py",
   "mimetype": "text/x-python",
   "name": "python",
   "nbconvert_exporter": "python",
   "pygments_lexer": "ipython3",
   "version": "3.10.10"
  },
  "orig_nbformat": 4
 },
 "nbformat": 4,
 "nbformat_minor": 2
}
