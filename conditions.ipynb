{
 "cells": [
  {
   "cell_type": "markdown",
   "metadata": {},
   "source": [
    "conditions\n",
    "- if\n",
    "- if else\n",
    "- if elif else\n",
    "- match case"
   ]
  },
  {
   "cell_type": "code",
   "execution_count": 1,
   "metadata": {},
   "outputs": [],
   "source": [
    "x = 10\n",
    "y = 3"
   ]
  },
  {
   "cell_type": "code",
   "execution_count": 9,
   "metadata": {},
   "outputs": [
    {
     "name": "stdout",
     "output_type": "stream",
     "text": [
      "x is greater than y\n",
      "That is true\n",
      "This is always printed\n"
     ]
    }
   ],
   "source": [
    "if x > y :\n",
    "     print(\"x is greater than y\")\n",
    "     print('That is true')\n",
    "print('This is always printed')     "
   ]
  },
  {
   "cell_type": "code",
   "execution_count": 10,
   "metadata": {},
   "outputs": [],
   "source": [
    "if x==y:\n",
    "    print('wow')"
   ]
  },
  {
   "cell_type": "code",
   "execution_count": 11,
   "metadata": {},
   "outputs": [
    {
     "name": "stdout",
     "output_type": "stream",
     "text": [
      "x is greater than y and x is greater than 8\n"
     ]
    }
   ],
   "source": [
    "if x > y and x > 8:\n",
    "    print('x is greater than y and x is greater than 8')"
   ]
  },
  {
   "cell_type": "markdown",
   "metadata": {},
   "source": [
    "True Values\n",
    "- True\n",
    "- non-zero numbers\n",
    "- non empty strings\n",
    "\n",
    "False Values\n",
    "\n",
    "- 0\n",
    "- 0.0\n",
    "- None\n",
    "- empty string\n"
   ]
  },
  {
   "cell_type": "code",
   "execution_count": 12,
   "metadata": {},
   "outputs": [
    {
     "name": "stdout",
     "output_type": "stream",
     "text": [
      "you entered Arpit\n"
     ]
    }
   ],
   "source": [
    "name = input('Enter a name')\n",
    "if name:\n",
    "    print(f'you entered {name}')\n",
    "else:\n",
    "    print('You did not enter a name')    "
   ]
  },
  {
   "cell_type": "code",
   "execution_count": 13,
   "metadata": {},
   "outputs": [
    {
     "name": "stdout",
     "output_type": "stream",
     "text": [
      "Even Number 58\n"
     ]
    }
   ],
   "source": [
    "n=int(input(\"Enter a number\"))\n",
    "if (n%2==0):\n",
    "    print(\"Even Number\",n)\n",
    "else:\n",
    "    print(\"Odd Number\")"
   ]
  },
  {
   "cell_type": "code",
   "execution_count": 16,
   "metadata": {},
   "outputs": [
    {
     "name": "stdout",
     "output_type": "stream",
     "text": [
      "Welcome admin\n"
     ]
    }
   ],
   "source": [
    "username = input('Enter username')\n",
    "password = input('Enter a password')\n",
    "if username == 'admin':\n",
    "    if password == '123admin':\n",
    "     print('Welcome admin')\n",
    "    else:\n",
    "        print('Invalid password')\n",
    "else:\n",
    "    print('Invalid username')"
   ]
  },
  {
   "cell_type": "code",
   "execution_count": 18,
   "metadata": {},
   "outputs": [
    {
     "name": "stdout",
     "output_type": "stream",
     "text": [
      "Holiday\n"
     ]
    }
   ],
   "source": [
    "day = input('Enter a day')\n",
    "if day == 'monday':\n",
    "    print('monday')\n",
    "elif day=='Tuesday':\n",
    "    print('Tuesday')\n",
    "elif day=='Wednesday':\n",
    "    print('Wednesday')\n",
    "else:\n",
    "    print('Holiday')            "
   ]
  },
  {
   "cell_type": "code",
   "execution_count": 19,
   "metadata": {},
   "outputs": [
    {
     "name": "stdout",
     "output_type": "stream",
     "text": [
      "Holiday\n"
     ]
    }
   ],
   "source": [
    "day = input('Enter a day')\n",
    "match day:\n",
    "    case 'monday':\n",
    "        print('Time to work')\n",
    "    case 'Tuesday'|'wednesday':\n",
    "        print('Time to work again')\n",
    "    case 'thursday':\n",
    "        print('Almost there')\n",
    "    case 'friday':\n",
    "        print('Weekend,not really')\n",
    "    case _:\n",
    "        print('Holiday')      \n",
    "\n"
   ]
  },
  {
   "cell_type": "code",
   "execution_count": 1,
   "metadata": {},
   "outputs": [
    {
     "name": "stdout",
     "output_type": "stream",
     "text": [
      "Aries\n"
     ]
    }
   ],
   "source": [
    "month = input('Enter a month')\n",
    "match month:\n",
    "    case 'January':\n",
    "        print(\"Aquarius\")\n",
    "    case 'February':\n",
    "        print(\"Capricorn\")\n",
    "    case 'March':\n",
    "        print('Aries')\n",
    "    case 'April':\n",
    "        print(\"Pisces\")\n",
    "    case 'May':\n",
    "        print(\"Taurus\")\n",
    "    case 'June':\n",
    "        print(\"Saggitarius\")       \n",
    "    case 'July':\n",
    "        print(\"Leo\")\n",
    "    case 'August':\n",
    "        print(\"Libra\")\n",
    "    case 'September':\n",
    "        print(\"Libra\")\n",
    "    case 'October':\n",
    "        print(\"Scorpio\")\n",
    "    case 'November':\n",
    "        print(\"Virgo\")\n",
    "    case 'December':\n",
    "        print(\"Gemini\")                                    "
   ]
  },
  {
   "cell_type": "code",
   "execution_count": null,
   "metadata": {},
   "outputs": [],
   "source": []
  }
 ],
 "metadata": {
  "kernelspec": {
   "display_name": "base",
   "language": "python",
   "name": "python3"
  },
  "language_info": {
   "codemirror_mode": {
    "name": "ipython",
    "version": 3
   },
   "file_extension": ".py",
   "mimetype": "text/x-python",
   "name": "python",
   "nbconvert_exporter": "python",
   "pygments_lexer": "ipython3",
   "version": "3.10.10"
  },
  "orig_nbformat": 4
 },
 "nbformat": 4,
 "nbformat_minor": 2
}
