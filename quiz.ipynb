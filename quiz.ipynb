{
 "cells": [
  {
   "cell_type": "code",
   "execution_count": 1,
   "metadata": {},
   "outputs": [
    {
     "name": "stdout",
     "output_type": "stream",
     "text": [
      "[1, 2, 3, 4, 5, 6]\n"
     ]
    }
   ],
   "source": [
    "#Given a list numbers = [1, 2, 3, 4, 5], write Python code to append the number 6 to the end of the list.\n",
    "numbers = [1,2,3,4,5]\n",
    "numbers.append(6)\n",
    "print(numbers)"
   ]
  },
  {
   "cell_type": "code",
   "execution_count": 2,
   "metadata": {},
   "outputs": [
    {
     "name": "stdout",
     "output_type": "stream",
     "text": [
      "['apple', 'banana', 'grape']\n"
     ]
    }
   ],
   "source": [
    "#Suppose you have a list fruits = ['apple', 'banana', 'orange', 'grape']. Write Python code to remove the element 'orange' from the list.\n",
    "fruits = ['apple', 'banana' , 'orange' , 'grape']\n",
    "fruits.remove('orange')\n",
    "print(fruits)"
   ]
  },
  {
   "cell_type": "code",
   "execution_count": 5,
   "metadata": {},
   "outputs": [
    {
     "name": "stdout",
     "output_type": "stream",
     "text": [
      "[1, 2, 3, 4, 5]\n",
      "[2, 4]\n"
     ]
    }
   ],
   "source": [
    "#Write a Python code that takes a list of integers as input and returns a new list with only the even numbers from the original list.\n",
    "x =[]\n",
    "n=int(input(\"Enter the size of the list\"))\n",
    "for i in range(0,n):\n",
    "    number=int(input())\n",
    "    x.append(number)\n",
    "x1=[]\n",
    "for j in x:\n",
    "    if(j%2==0):\n",
    "        x1.append(j)\n",
    "print(x)\n",
    "print(x1)        \n",
    "\n",
    "\n"
   ]
  },
  {
   "cell_type": "code",
   "execution_count": 9,
   "metadata": {},
   "outputs": [
    {
     "name": "stdout",
     "output_type": "stream",
     "text": [
      "[1, 2, 3, 4, 5, 6]\n"
     ]
    }
   ],
   "source": [
    "#Given two lists list1 = [1, 2, 3] and list2 = [4, 5, 6], write Python code to combine these two lists and create a new list.\n",
    "list1 = [1,2,3]\n",
    "list2 = [4,5,6]\n",
    "\n",
    "list3=list1+list2\n",
    "print(list3)"
   ]
  },
  {
   "cell_type": "code",
   "execution_count": 12,
   "metadata": {},
   "outputs": [
    {
     "name": "stdout",
     "output_type": "stream",
     "text": [
      "['Peter', 'Batman', 'Superman']\n"
     ]
    }
   ],
   "source": [
    "#Write a Python code that takes a list of strings as input and returns a new list containing only the strings with a length greater than 5.\n",
    "names=['Peter','Batman','Superman','Blue','Red','Roy']\n",
    "result=[]\n",
    "for i in names:\n",
    "    if (len(i) >= 5):\n",
    "        result.append(i)\n",
    "print(result)\n",
    "\n"
   ]
  },
  {
   "cell_type": "code",
   "execution_count": 16,
   "metadata": {},
   "outputs": [
    {
     "name": "stdout",
     "output_type": "stream",
     "text": [
      "{'Name': 'John', 'Age': '25', 'Major': 'Computer Science'}\n"
     ]
    }
   ],
   "source": [
    "#Create a Python dictionary student with the following key-value pairs: 'name' set to 'John', 'age' set to 25, and 'major' set to 'Computer Science'.\n",
    "student={\n",
    "    'Name' : 'John',\n",
    "    'Age' : '25',\n",
    "    'Major' : 'Computer Science'\n",
    " }\n",
    "print(student)"
   ]
  },
  {
   "cell_type": "code",
   "execution_count": 18,
   "metadata": {},
   "outputs": [
    {
     "name": "stdout",
     "output_type": "stream",
     "text": [
      "{'apples': 10, 'bananas': 5, 'oranges': 8}\n",
      "Not found\n"
     ]
    }
   ],
   "source": [
    "#Given the following dictionary inventory = {'apples': 10, 'bananas': 5, 'oranges': 8}, write Python code to check if the key 'grapes' is present in the dictionary.\n",
    "inventory={\n",
    "    'apples' : 10,\n",
    "    'bananas' : 5,\n",
    "    'oranges' : 8\n",
    "}\n",
    "print(inventory)\n",
    "if 'grapes' in inventory:\n",
    "    print('Found')\n",
    "else:\n",
    "    print('Not found')    \n",
    "\n"
   ]
  },
  {
   "cell_type": "code",
   "execution_count": 22,
   "metadata": {},
   "outputs": [
    {
     "name": "stdout",
     "output_type": "stream",
     "text": [
      "Item with highest price: Mango\n"
     ]
    }
   ],
   "source": [
    "#Write a Python code that takes a dictionary of items and their prices as input and returns the item with the highest price.\n",
    "dictionary = {}\n",
    "number_of_items = int(input(\"Enter the number of items: \"))\n",
    "for i in range(number_of_items):\n",
    "    item_name = input(\"Enter the item name: \")\n",
    "    price = input(\"Enter the item price: \")\n",
    "    dictionary[item_name] = price\n",
    "    max_value=max(dictionary)\n",
    "print(\"Item with highest price:\", max_value)"
   ]
  },
  {
   "cell_type": "code",
   "execution_count": 24,
   "metadata": {},
   "outputs": [
    {
     "name": "stdout",
     "output_type": "stream",
     "text": [
      "{'Arpit': '945617', 'Peter': '569871', 'Bruce': '756321', 'Michael': '896541'}\n"
     ]
    }
   ],
   "source": [
    "#Suppose you have a dictionary contacts containing contact information. Write Python code to remove the contact with the key 'John' from the dictionary\n",
    "contacts={\n",
    "    'Arpit' : '945617',\n",
    "    'Peter' : '569871',\n",
    "    'Bruce' : '756321',\n",
    "    'Michael': '896541',\n",
    "    'John' : '738075'\n",
    "}\n",
    "contacts.pop('John')\n",
    "print(contacts)"
   ]
  },
  {
   "cell_type": "code",
   "execution_count": null,
   "metadata": {},
   "outputs": [],
   "source": [
    "#Write a Python code that takes a dictionary of words and their frequencies as input and returns a list of words sorted in alphabetical order.\n",
    "\n",
    "\n"
   ]
  },
  {
   "cell_type": "code",
   "execution_count": 25,
   "metadata": {},
   "outputs": [
    {
     "name": "stdout",
     "output_type": "stream",
     "text": [
      "MY NAME IS ARPIT AGARWAL\n"
     ]
    }
   ],
   "source": [
    "#How can you convert a string sentence to all uppercase letters in Python?\n",
    "sentence1=\"My name is Arpit Agarwal\"\n",
    "sentence=sentence1.upper()\n",
    "print(sentence)"
   ]
  },
  {
   "cell_type": "code",
   "execution_count": 26,
   "metadata": {},
   "outputs": [
    {
     "name": "stdout",
     "output_type": "stream",
     "text": [
      "example.com\n"
     ]
    }
   ],
   "source": [
    "#Given a string email = \"john.doe@example.com\", write Python code to extract the domain name 'example.com' from the email.\n",
    "email= \"john.doe@example.com\"\n",
    "result=email[email.index('@') + 1 :]\n",
    "print(result)"
   ]
  },
  {
   "cell_type": "code",
   "execution_count": 30,
   "metadata": {},
   "outputs": [
    {
     "name": "stdout",
     "output_type": "stream",
     "text": [
      "xrpxt\n"
     ]
    }
   ],
   "source": [
    "#Write a Python code that takes a string as input and returns a new string with all vowels replaced by the letter 'x'.\n",
    "name =input(\"Enter the string: \")\n",
    "name=name.lower()\n",
    "newstring = \"\"\n",
    "for j in name:\n",
    "    if j=='a' or j=='e' or j=='o' or j=='u' or j=='i':\n",
    "        newstring=newstring+'x'\n",
    "    else:\n",
    "        newstring+=j\n",
    "print(newstring)        \n"
   ]
  },
  {
   "cell_type": "code",
   "execution_count": 32,
   "metadata": {},
   "outputs": [
    {
     "name": "stdout",
     "output_type": "stream",
     "text": [
      "4\n"
     ]
    }
   ],
   "source": [
    "#Suppose you have a string sentence = \"Python programming is fun!\". Write Python code to count the number of words in the sentence.\n",
    "\n",
    "sentence=\"Python programming is fun!\"\n",
    "words=sentence.split()\n",
    "count=len(words)\n",
    "print(count)\n",
    "\n"
   ]
  },
  {
   "cell_type": "code",
   "execution_count": null,
   "metadata": {},
   "outputs": [],
   "source": []
  }
 ],
 "metadata": {
  "kernelspec": {
   "display_name": "base",
   "language": "python",
   "name": "python3"
  },
  "language_info": {
   "codemirror_mode": {
    "name": "ipython",
    "version": 3
   },
   "file_extension": ".py",
   "mimetype": "text/x-python",
   "name": "python",
   "nbconvert_exporter": "python",
   "pygments_lexer": "ipython3",
   "version": "3.10.10"
  },
  "orig_nbformat": 4
 },
 "nbformat": 4,
 "nbformat_minor": 2
}
