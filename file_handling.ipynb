{
 "cells": [
  {
   "cell_type": "markdown",
   "metadata": {},
   "source": [
    "# file handling\n",
    "- open\n",
    "- read\n",
    "- write\n",
    "- append\n",
    "- close ❌\n",
    "    - with keyword is better"
   ]
  },
  {
   "cell_type": "code",
   "execution_count": 1,
   "metadata": {},
   "outputs": [
    {
     "data": {
      "text/plain": [
       "<_io.TextIOWrapper name='t1.py' mode='r' encoding='UTF-8'>"
      ]
     },
     "execution_count": 1,
     "metadata": {},
     "output_type": "execute_result"
    }
   ],
   "source": [
    "open('t1.py') # open and load into memory"
   ]
  },
  {
   "cell_type": "code",
   "execution_count": 2,
   "metadata": {},
   "outputs": [
    {
     "data": {
      "text/plain": [
       "\"from turtle import *\\nspeed('fastest')\\npencolor('yellow')\\nbgcolor('#303030')\\npensize(2)\\n\\ni=100\\nwhile i> 0:\\n    fd(i)\\n    lt(90)\\n    i-=4\\n    dot(10, 'red')\\n    write(i,font=('Calibri',14,'bold'))\\n\\nmainloop()\""
      ]
     },
     "execution_count": 2,
     "metadata": {},
     "output_type": "execute_result"
    }
   ],
   "source": [
    "open('t1.py').read()"
   ]
  },
  {
   "cell_type": "code",
   "execution_count": 6,
   "metadata": {},
   "outputs": [
    {
     "name": "stdout",
     "output_type": "stream",
     "text": [
      "from turtle import *\n",
      "speed('fastest')\n",
      "pencolor('yellow')\n",
      "bgcolor('#303030')\n",
      "pensize(2)\n",
      "\n",
      "i=100\n",
      "while i> 0:\n",
      "    fd(i)\n",
      "    lt(90)\n",
      "    i-=4\n",
      "    dot(10, 'red')\n",
      "    write(i,font=('Calibri',14,'bold'))\n",
      "\n",
      "mainloop()\n"
     ]
    }
   ],
   "source": [
    "# reading a file using with encoding and errors ignored\n",
    "with open('t1.py', encoding='utf-8', errors='ignore') as file:\n",
    "    content = file.read()\n",
    "print(content)    "
   ]
  },
  {
   "cell_type": "code",
   "execution_count": 7,
   "metadata": {},
   "outputs": [
    {
     "name": "stdout",
     "output_type": "stream",
     "text": [
      "426430\n"
     ]
    }
   ],
   "source": [
    "path = r'C:\\Users\\DELL G3\\Downloads\\904808_1415126048765480_2116616194963104806_o.jpg'\n",
    "# Open the file in read binary mode\n",
    "with open(path, 'rb') as file:\n",
    "    bytes = file.read()\n",
    "print(len(bytes))    "
   ]
  },
  {
   "cell_type": "code",
   "execution_count": 9,
   "metadata": {},
   "outputs": [
    {
     "name": "stdout",
     "output_type": "stream",
     "text": [
      " ✅ File created successfully\n"
     ]
    }
   ],
   "source": [
    "# creating a text file \n",
    "data = 'Life Before Death\\nStrenght Before Weakness\\nJourney Before Destination'\n",
    "# 'w' is the write mode\n",
    "with open('oaths.txt', 'w') as f:\n",
    "    f.write(data)\n",
    "    print(' ✅ File created successfully')"
   ]
  },
  {
   "cell_type": "code",
   "execution_count": 16,
   "metadata": {},
   "outputs": [
    {
     "name": "stdout",
     "output_type": "stream",
     "text": [
      "✅ Kahani Khatam\n"
     ]
    }
   ],
   "source": [
    "with open('kahani.txt', 'w') as file:\n",
    "    while True:\n",
    "        line = input('>>>')\n",
    "        if not line:\n",
    "            break\n",
    "        file.write(line + '\\n')\n",
    "    print('✅ Kahani Khatam')    "
   ]
  },
  {
   "cell_type": "code",
   "execution_count": 17,
   "metadata": {},
   "outputs": [
    {
     "name": "stdout",
     "output_type": "stream",
     "text": [
      "File updated successfully\n"
     ]
    }
   ],
   "source": [
    "# adding content to existing file\n",
    "with open('oaths.txt', 'a') as file:\n",
    "    file.write('\\nThe first ideal of Knight Radiant\\n')\n",
    "    file.write('from the book : The Way of Kings\\n')\n",
    "    print('File updated successfully')"
   ]
  },
  {
   "cell_type": "markdown",
   "metadata": {},
   "source": [
    "# os library"
   ]
  },
  {
   "cell_type": "code",
   "execution_count": 18,
   "metadata": {},
   "outputs": [],
   "source": [
    "import os"
   ]
  },
  {
   "cell_type": "code",
   "execution_count": 19,
   "metadata": {},
   "outputs": [
    {
     "name": "stdout",
     "output_type": "stream",
     "text": [
      "the current path is:\n",
      "c:\\Users\\DELL G3\\OneDrive\\Documents\\Data Analytics\n"
     ]
    }
   ],
   "source": [
    "print(\"the current path is:\")\n",
    "print(os.getcwd())"
   ]
  },
  {
   "cell_type": "code",
   "execution_count": 21,
   "metadata": {},
   "outputs": [
    {
     "name": "stdout",
     "output_type": "stream",
     "text": [
      "All the content in current directory:\n"
     ]
    },
    {
     "data": {
      "text/plain": [
       "['.git',\n",
       " 'basics.ipynb',\n",
       " 'conditions.ipynb',\n",
       " 'dictionary.ipynb',\n",
       " 'file_handling.ipynb',\n",
       " 'Hello.py',\n",
       " 'kahani.txt',\n",
       " 'lists.ipynb',\n",
       " 'loops.ipynb',\n",
       " 'oaths.txt',\n",
       " 'strings.ipynb',\n",
       " 't1.py',\n",
       " 't3.py',\n",
       " 't4.py',\n",
       " 'tempCodeRunnerFile.py',\n",
       " 'tuples_n_sets.ipynb']"
      ]
     },
     "execution_count": 21,
     "metadata": {},
     "output_type": "execute_result"
    }
   ],
   "source": [
    "print('All the content in current directory:')\n",
    "os.listdir()"
   ]
  },
  {
   "cell_type": "code",
   "execution_count": null,
   "metadata": {},
   "outputs": [],
   "source": [
    "print('All the content of some other location')\n",
    "path = 'C:/Users/DELL G3/Downloads'\n",
    "os.listdir(path)"
   ]
  },
  {
   "cell_type": "code",
   "execution_count": 25,
   "metadata": {},
   "outputs": [
    {
     "name": "stdout",
     "output_type": "stream",
     "text": [
      "C:\\SQL2022\\Express_ENU\\1033_ENU_LP\\x64\\1033\\LICENSE.RTF\n",
      "C:\\SQL2022\\Express_ENU\\1033_ENU_LP\\x64\\1033\\README.HTM\n",
      "C:\\SQL2022\\Express_ENU\\1033_ENU_LP\\x64\\Setup\\x64\\MSODBCSQL.MSI\n",
      "C:\\SQL2022\\Express_ENU\\1033_ENU_LP\\x64\\Setup\\x64\\MSOLEDBSQL.MSI\n",
      "C:\\SQL2022\\Express_ENU\\1033_ENU_LP\\x64\\Setup\\x64\\SQLWRITER.MSI\n",
      "C:\\SQL2022\\Express_ENU\\1033_ENU_LP\\x64\\Setup\\CONN_INFO_LOC.MSI\n",
      "C:\\SQL2022\\Express_ENU\\1033_ENU_LP\\x64\\Setup\\SMO_EXTENSIONS_LOC.MSI\n",
      "C:\\SQL2022\\Express_ENU\\1033_ENU_LP\\x64\\Setup\\SMO_LOC.MSI\n",
      "C:\\SQL2022\\Express_ENU\\1033_ENU_LP\\x64\\Setup\\SQLBROWSER.MSI\n",
      "C:\\SQL2022\\Express_ENU\\1033_ENU_LP\\x64\\Setup\\SQLSUPPORT.MSI\n",
      "C:\\SQL2022\\Express_ENU\\1033_ENU_LP\\x64\\Setup\\SQL_COMMON_CORE_LOC.MSI\n",
      "C:\\SQL2022\\Express_ENU\\1033_ENU_LP\\x64\\Setup\\SQL_DMF_LOC.MSI\n",
      "C:\\SQL2022\\Express_ENU\\1033_ENU_LP\\x64\\Setup\\SQL_ENGINE_CORE_INST_LOC.MSI\n",
      "C:\\SQL2022\\Express_ENU\\1033_ENU_LP\\x64\\Setup\\SQL_ENGINE_CORE_SHARED_LOC.MSI\n",
      "C:\\SQL2022\\Express_ENU\\1033_ENU_LP\\x64\\Setup\\SQL_XEVENT_LOC.MSI\n",
      "C:\\SQL2022\\Express_ENU\\1033_ENU_LP\\x64\\Setup\\x64\n",
      "C:\\SQL2022\\Express_ENU\\1033_ENU_LP\\x64\\README.HTM\n",
      "C:\\SQL2022\\Express_ENU\\1033_ENU_LP\\x64\\1033\n",
      "C:\\SQL2022\\Express_ENU\\1033_ENU_LP\\x64\\Setup\n",
      "C:\\SQL2022\\Express_ENU\\1033_ENU_LP\\MEDIAINFO.XML\n",
      "C:\\SQL2022\\Express_ENU\\1033_ENU_LP\\x64\n",
      "C:\\SQL2022\\Express_ENU\\redist\\VisualStudioShell\\VCRuntimes\\VC_REDIST_X64.EXE\n",
      "C:\\SQL2022\\Express_ENU\\redist\\VisualStudioShell\\VCRuntimes\\VC_REDIST_X86.EXE\n",
      "C:\\SQL2022\\Express_ENU\\redist\\VisualStudioShell\\VCRuntimes\n",
      "C:\\SQL2022\\Express_ENU\\redist\\VisualStudioShell\n",
      "C:\\SQL2022\\Express_ENU\\resources\\1033\\SETUP.RLL\n",
      "C:\\SQL2022\\Express_ENU\\resources\\1033\n",
      "C:\\SQL2022\\Express_ENU\\x64\\Setup\\CONN_INFO.MSI\n",
      "C:\\SQL2022\\Express_ENU\\x64\\Setup\\RSFX.MSI\n",
      "C:\\SQL2022\\Express_ENU\\x64\\Setup\\SMO.MSI\n",
      "C:\\SQL2022\\Express_ENU\\x64\\Setup\\SMO_EXTENSIONS.MSI\n",
      "C:\\SQL2022\\Express_ENU\\x64\\Setup\\SQL_ARCONBOARD.MSI\n",
      "C:\\SQL2022\\Express_ENU\\x64\\Setup\\SQL_BATCHPARSER.MSI\n",
      "C:\\SQL2022\\Express_ENU\\x64\\Setup\\SQL_COMMON_CORE.MSI\n",
      "C:\\SQL2022\\Express_ENU\\x64\\Setup\\SQL_DIAG.MSI\n",
      "C:\\SQL2022\\Express_ENU\\x64\\Setup\\SQL_DMF.MSI\n",
      "C:\\SQL2022\\Express_ENU\\x64\\Setup\\SQL_ENGINE_CORE_INST.MSI\n",
      "C:\\SQL2022\\Express_ENU\\x64\\Setup\\SQL_ENGINE_CORE_SHARED.MSI\n",
      "C:\\SQL2022\\Express_ENU\\x64\\Setup\\SQL_XEVENT.MSI\n",
      "C:\\SQL2022\\Express_ENU\\x64\\ADDNODE.XML\n",
      "C:\\SQL2022\\Express_ENU\\x64\\COMPLETECLUSTERWIZARD.XML\n",
      "C:\\SQL2022\\Express_ENU\\x64\\COMPLETEIMAGEWIZARD.XML\n",
      "C:\\SQL2022\\Express_ENU\\x64\\COMPONENTUPDATE.XML\n",
      "C:\\SQL2022\\Express_ENU\\x64\\CONFIGURATION.UICFG\n",
      "C:\\SQL2022\\Express_ENU\\x64\\EDITIONUPGRADEWIZARD.XML\n",
      "C:\\SQL2022\\Express_ENU\\x64\\FIXSQLREGISTRYKEY_X64.EXE\n",
      "C:\\SQL2022\\Express_ENU\\x64\\FIXSQLREGISTRYKEY_X64.EXE.CONFIG\n",
      "C:\\SQL2022\\Express_ENU\\x64\\FIXSQLREGISTRYKEY_X86.EXE\n",
      "C:\\SQL2022\\Express_ENU\\x64\\FIXSQLREGISTRYKEY_X86.EXE.CONFIG\n",
      "C:\\SQL2022\\Express_ENU\\x64\\INSTALLCLUSTERWIZARD.XML\n",
      "C:\\SQL2022\\Express_ENU\\x64\\INSTALLWIZARD.XML\n",
      "C:\\SQL2022\\Express_ENU\\x64\\INSTAPI160.DLL\n",
      "C:\\SQL2022\\Express_ENU\\x64\\LANDINGPAGE.EXE\n",
      "C:\\SQL2022\\Express_ENU\\x64\\LANDINGPAGE.EXE.CONFIG\n",
      "C:\\SQL2022\\Express_ENU\\x64\\MICROSOFT.ANALYSISSERVICES.ADOMDCLIENT.DLL\n",
      "C:\\SQL2022\\Express_ENU\\x64\\MICROSOFT.ANALYSISSERVICES.CORE.DLL\n",
      "C:\\SQL2022\\Express_ENU\\x64\\MICROSOFT.ANALYSISSERVICES.DLL\n",
      "C:\\SQL2022\\Express_ENU\\x64\\MICROSOFT.ANALYSISSERVICES.SPCLIENT.INTERFACES.DLL\n",
      "C:\\SQL2022\\Express_ENU\\x64\\MICROSOFT.ANALYSISSERVICES.TABULAR.DLL\n",
      "C:\\SQL2022\\Express_ENU\\x64\\MICROSOFT.ANALYSISSERVICES.TABULAR.JSON.DLL\n",
      "C:\\SQL2022\\Express_ENU\\x64\\MICROSOFT.DIAGNOSTICS.TRACING.EVENTSOURCE.DLL\n",
      "C:\\SQL2022\\Express_ENU\\x64\\MICROSOFT.IDENTITY.CLIENT.DLL\n",
      "C:\\SQL2022\\Express_ENU\\x64\\MICROSOFT.IDENTITYMODEL.CLIENTS.ACTIVEDIRECTORY.DLL\n",
      "C:\\SQL2022\\Express_ENU\\x64\\MICROSOFT.NETENTERPRISESERVERS.EXCEPTIONMESSAGEBOX.DLL\n",
      "C:\\SQL2022\\Express_ENU\\x64\\MICROSOFT.SQL.CHAINER.PACKAGE.DLL\n",
      "C:\\SQL2022\\Express_ENU\\x64\\MICROSOFT.SQL.CHAINER.PACKAGE.XMLSERIALIZERS.DLL\n",
      "C:\\SQL2022\\Express_ENU\\x64\\MICROSOFT.SQL.CHAINER.PACKAGEDATA.DLL\n",
      "C:\\SQL2022\\Express_ENU\\x64\\MICROSOFT.SQL.CHAINER.PRODUCT.DLL\n",
      "C:\\SQL2022\\Express_ENU\\x64\\MICROSOFT.SQL.CHAINER.PRODUCT.XMLSERIALIZERS.DLL\n",
      "C:\\SQL2022\\Express_ENU\\x64\\MICROSOFT.SQLSERVER.CHAINER.EXTENSIONCOMMON.DLL\n",
      "C:\\SQL2022\\Express_ENU\\x64\\MICROSOFT.SQLSERVER.CHAINER.EXTENSIONCOMMON.XMLSERIALIZERS.DLL\n",
      "C:\\SQL2022\\Express_ENU\\x64\\MICROSOFT.SQLSERVER.CHAINER.INFRASTRUCTURE.DLL\n",
      "C:\\SQL2022\\Express_ENU\\x64\\MICROSOFT.SQLSERVER.CHAINER.INFRASTRUCTURE.XMLSERIALIZERS.DLL\n",
      "C:\\SQL2022\\Express_ENU\\x64\\MICROSOFT.SQLSERVER.CHAINER.WORKFLOWDATA.DLL\n",
      "C:\\SQL2022\\Express_ENU\\x64\\MICROSOFT.SQLSERVER.CHAINER.WORKFLOWDATA.XMLSERIALIZERS.DLL\n",
      "C:\\SQL2022\\Express_ENU\\x64\\MICROSOFT.SQLSERVER.CONFIGURATION.AGENTEXTENSION.DLL\n",
      "C:\\SQL2022\\Express_ENU\\x64\\MICROSOFT.SQLSERVER.CONFIGURATION.ARCONBOARD.DLL\n",
      "C:\\SQL2022\\Express_ENU\\x64\\MICROSOFT.SQLSERVER.CONFIGURATION.ASEXTENSION.DLL\n",
      "C:\\SQL2022\\Express_ENU\\x64\\MICROSOFT.SQLSERVER.CONFIGURATION.ASTELEMETRYEXTENSION.DLL\n",
      "C:\\SQL2022\\Express_ENU\\x64\\MICROSOFT.SQLSERVER.CONFIGURATION.BOOTSTRAPEXTENSION.DLL\n",
      "C:\\SQL2022\\Express_ENU\\x64\\MICROSOFT.SQLSERVER.CONFIGURATION.BOOTSTRAPEXTENSION.XMLSERIALIZERS.DLL\n",
      "C:\\SQL2022\\Express_ENU\\x64\\MICROSOFT.SQLSERVER.CONFIGURATION.CLUSTER.DLL\n",
      "C:\\SQL2022\\Express_ENU\\x64\\MICROSOFT.SQLSERVER.CONFIGURATION.CLUSTER.XMLSERIALIZERS.DLL\n",
      "C:\\SQL2022\\Express_ENU\\x64\\MICROSOFT.SQLSERVER.CONFIGURATION.CONFIGEXTENSION.DLL\n",
      "C:\\SQL2022\\Express_ENU\\x64\\MICROSOFT.SQLSERVER.CONFIGURATION.CONFIGEXTENSION.XMLSERIALIZERS.DLL\n",
      "C:\\SQL2022\\Express_ENU\\x64\\MICROSOFT.SQLSERVER.CONFIGURATION.DLL\n",
      "C:\\SQL2022\\Express_ENU\\x64\\MICROSOFT.SQLSERVER.CONFIGURATION.EXTENSIBILITY_CONFIGEXTENSION.DLL\n",
      "C:\\SQL2022\\Express_ENU\\x64\\MICROSOFT.SQLSERVER.CONFIGURATION.FULLTEXT_CONFIGEXTENSION.DLL\n",
      "C:\\SQL2022\\Express_ENU\\x64\\MICROSOFT.SQLSERVER.CONFIGURATION.IMPY_CONFIGEXTENSION.DLL\n",
      "C:\\SQL2022\\Express_ENU\\x64\\MICROSOFT.SQLSERVER.CONFIGURATION.IMR_CONFIGEXTENSION.DLL\n",
      "C:\\SQL2022\\Express_ENU\\x64\\MICROSOFT.SQLSERVER.CONFIGURATION.INSTALLWIZARD.DLL\n",
      "C:\\SQL2022\\Express_ENU\\x64\\MICROSOFT.SQLSERVER.CONFIGURATION.INSTALLWIZARDFRAMEWORK.DLL\n",
      "C:\\SQL2022\\Express_ENU\\x64\\MICROSOFT.SQLSERVER.CONFIGURATION.INSTALLWIZARDFRAMEWORK.XMLSERIALIZERS.DLL\n",
      "C:\\SQL2022\\Express_ENU\\x64\\MICROSOFT.SQLSERVER.CONFIGURATION.ISMASTEREXTENSION.DLL\n",
      "C:\\SQL2022\\Express_ENU\\x64\\MICROSOFT.SQLSERVER.CONFIGURATION.ISTELEMETRYCONFIGEXTENSION.DLL\n",
      "C:\\SQL2022\\Express_ENU\\x64\\MICROSOFT.SQLSERVER.CONFIGURATION.ISWORKEREXTENSION.DLL\n",
      "C:\\SQL2022\\Express_ENU\\x64\\MICROSOFT.SQLSERVER.CONFIGURATION.MANAGEMENTTOOLSEXTENSION.DLL\n",
      "C:\\SQL2022\\Express_ENU\\x64\\MICROSOFT.SQLSERVER.CONFIGURATION.MSIEXTENSION.DLL\n",
      "C:\\SQL2022\\Express_ENU\\x64\\MICROSOFT.SQLSERVER.CONFIGURATION.MSIEXTENSION.XMLSERIALIZERS.DLL\n",
      "C:\\SQL2022\\Express_ENU\\x64\\MICROSOFT.SQLSERVER.CONFIGURATION.POLYBASECONFIGEXTENSION.DLL\n",
      "C:\\SQL2022\\Express_ENU\\x64\\MICROSOFT.SQLSERVER.CONFIGURATION.POWERSHELLEXTENSION.DLL\n",
      "C:\\SQL2022\\Express_ENU\\x64\\MICROSOFT.SQLSERVER.CONFIGURATION.REPL_CONFIGEXTENSION.DLL\n",
      "C:\\SQL2022\\Express_ENU\\x64\\MICROSOFT.SQLSERVER.CONFIGURATION.RSEXTENSION.DLL\n",
      "C:\\SQL2022\\Express_ENU\\x64\\MICROSOFT.SQLSERVER.CONFIGURATION.RULESENGINEEXTENSION.DLL\n",
      "C:\\SQL2022\\Express_ENU\\x64\\MICROSOFT.SQLSERVER.CONFIGURATION.RULESENGINEEXTENSION.XMLSERIALIZERS.DLL\n",
      "C:\\SQL2022\\Express_ENU\\x64\\MICROSOFT.SQLSERVER.CONFIGURATION.SCO.DLL\n",
      "C:\\SQL2022\\Express_ENU\\x64\\MICROSOFT.SQLSERVER.CONFIGURATION.SCO.XMLSERIALIZERS.DLL\n",
      "C:\\SQL2022\\Express_ENU\\x64\\MICROSOFT.SQLSERVER.CONFIGURATION.SCOEXTENSION.DLL\n",
      "C:\\SQL2022\\Express_ENU\\x64\\MICROSOFT.SQLSERVER.CONFIGURATION.SETUPEXTENSION.DLL\n",
      "C:\\SQL2022\\Express_ENU\\x64\\MICROSOFT.SQLSERVER.CONFIGURATION.SETUPEXTENSION.XMLSERIALIZERS.DLL\n",
      "C:\\SQL2022\\Express_ENU\\x64\\MICROSOFT.SQLSERVER.CONFIGURATION.SLPEXTENSION.DLL\n",
      "C:\\SQL2022\\Express_ENU\\x64\\MICROSOFT.SQLSERVER.CONFIGURATION.SMARTSETUPEXTENSION.DLL\n",
      "C:\\SQL2022\\Express_ENU\\x64\\MICROSOFT.SQLSERVER.CONFIGURATION.SMARTSETUPEXTENSION.XMLSERIALIZERS.DLL\n",
      "C:\\SQL2022\\Express_ENU\\x64\\MICROSOFT.SQLSERVER.CONFIGURATION.SNISERVERCONFIGEXT.DLL\n",
      "C:\\SQL2022\\Express_ENU\\x64\\MICROSOFT.SQLSERVER.CONFIGURATION.SQLBROWSEREXTENSION.DLL\n",
      "C:\\SQL2022\\Express_ENU\\x64\\MICROSOFT.SQLSERVER.CONFIGURATION.SQLCONFIGBASE.DLL\n",
      "C:\\SQL2022\\Express_ENU\\x64\\MICROSOFT.SQLSERVER.CONFIGURATION.SQLCONFIGBASE.XMLSERIALIZERS.DLL\n",
      "C:\\SQL2022\\Express_ENU\\x64\\MICROSOFT.SQLSERVER.CONFIGURATION.SQLSERVER_CONFIGEXTENSION.DLL\n",
      "C:\\SQL2022\\Express_ENU\\x64\\MICROSOFT.SQLSERVER.CONFIGURATION.SSISEXTENSION.DLL\n",
      "C:\\SQL2022\\Express_ENU\\x64\\MICROSOFT.SQLSERVER.CONFIGURATION.TELEMETRYCONFIGEXTENSION.DLL\n",
      "C:\\SQL2022\\Express_ENU\\x64\\MICROSOFT.SQLSERVER.CONFIGURATION.UIEXTENSION.DLL\n",
      "C:\\SQL2022\\Express_ENU\\x64\\MICROSOFT.SQLSERVER.CONFIGURATION.UIEXTENSION.XMLSERIALIZERS.DLL\n",
      "C:\\SQL2022\\Express_ENU\\x64\\MICROSOFT.SQLSERVER.CONFIGURATION.UTILITYEXTENSION.DLL\n",
      "C:\\SQL2022\\Express_ENU\\x64\\MICROSOFT.SQLSERVER.CONFIGURATION.WIZARDFRAMEWORK.DLL\n",
      "C:\\SQL2022\\Express_ENU\\x64\\MICROSOFT.SQLSERVER.CONFIGURATION.WIZARDFRAMEWORK.XMLSERIALIZERS.DLL\n",
      "C:\\SQL2022\\Express_ENU\\x64\\MICROSOFT.SQLSERVER.CONFIGURATION.WMIINTEROP.DLL\n",
      "C:\\SQL2022\\Express_ENU\\x64\\MICROSOFT.SQLSERVER.CONFIGURATION.XMLSERIALIZERS.DLL\n",
      "C:\\SQL2022\\Express_ENU\\x64\\MICROSOFT.SQLSERVER.CONFIGURATION.XTP.CONFIGEXTENSION.DLL\n",
      "C:\\SQL2022\\Express_ENU\\x64\\MICROSOFT.SQLSERVER.CONNECTIONINFO.DLL\n",
      "C:\\SQL2022\\Express_ENU\\x64\\MICROSOFT.SQLSERVER.CUSTOMCONTROLS.DLL\n",
      "C:\\SQL2022\\Express_ENU\\x64\\MICROSOFT.SQLSERVER.DATAWAREHOUSE.WORKLOADDEPLOYMENT.DLL\n",
      "C:\\SQL2022\\Express_ENU\\x64\\MICROSOFT.SQLSERVER.DEPLOYMENT.DLL\n",
      "C:\\SQL2022\\Express_ENU\\x64\\MICROSOFT.SQLSERVER.DEPLOYMENT.XMLSERIALIZERS.DLL\n",
      "C:\\SQL2022\\Express_ENU\\x64\\MICROSOFT.SQLSERVER.DIAGNOSTICS.STRACE.DLL\n",
      "C:\\SQL2022\\Express_ENU\\x64\\MICROSOFT.SQLSERVER.DISCOVERY.DLL\n",
      "C:\\SQL2022\\Express_ENU\\x64\\MICROSOFT.SQLSERVER.DISCOVERY.XMLSERIALIZERS.DLL\n",
      "C:\\SQL2022\\Express_ENU\\x64\\MICROSOFT.SQLSERVER.DMF.COMMON.DLL\n",
      "C:\\SQL2022\\Express_ENU\\x64\\MICROSOFT.SQLSERVER.DMF.DLL\n",
      "C:\\SQL2022\\Express_ENU\\x64\\MICROSOFT.SQLSERVER.INSTAPI.DLL\n",
      "C:\\SQL2022\\Express_ENU\\x64\\MICROSOFT.SQLSERVER.INTEROP.FIREWALLAPI.DLL\n",
      "C:\\SQL2022\\Express_ENU\\x64\\MICROSOFT.SQLSERVER.INTEROP.TASKSCHD.DLL\n",
      "C:\\SQL2022\\Express_ENU\\x64\\MICROSOFT.SQLSERVER.INTEROP.WUAPILIB.DLL\n",
      "C:\\SQL2022\\Express_ENU\\x64\\MICROSOFT.SQLSERVER.MANAGEMENT.CONTROLS.DLL\n",
      "C:\\SQL2022\\Express_ENU\\x64\\MICROSOFT.SQLSERVER.MANAGEMENT.SDK.SFC.DLL\n",
      "C:\\SQL2022\\Express_ENU\\x64\\MICROSOFT.SQLSERVER.SETUP.CHAINER.WORKFLOW.DLL\n",
      "C:\\SQL2022\\Express_ENU\\x64\\MICROSOFT.SQLSERVER.SETUP.CHAINER.WORKFLOW.XMLSERIALIZERS.DLL\n",
      "C:\\SQL2022\\Express_ENU\\x64\\MICROSOFT.SQLSERVER.SMO.DLL\n",
      "C:\\SQL2022\\Express_ENU\\x64\\MICROSOFT.SQLSERVER.SQLCLRPROVIDER.DLL\n",
      "C:\\SQL2022\\Express_ENU\\x64\\MICROSOFT.SQLSERVER.SQLENUM.DLL\n",
      "C:\\SQL2022\\Express_ENU\\x64\\MICROSOFT.SQLSERVER.SSTRING.DLL\n",
      "C:\\SQL2022\\Express_ENU\\x64\\MICROSOFT.SQLSERVER.USAGETRACKING.DLL\n",
      "C:\\SQL2022\\Express_ENU\\x64\\MSVCP140.DLL\n",
      "C:\\SQL2022\\Express_ENU\\x64\\MSVCP140_1.DLL\n",
      "C:\\SQL2022\\Express_ENU\\x64\\MSVCP140_2.DLL\n",
      "C:\\SQL2022\\Express_ENU\\x64\\MSVCP140_ATOMIC_WAIT.DLL\n",
      "C:\\SQL2022\\Express_ENU\\x64\\MSVCP140_CODECVT_IDS.DLL\n",
      "C:\\SQL2022\\Express_ENU\\x64\\NEWTONSOFT.JSON.DLL\n",
      "C:\\SQL2022\\Express_ENU\\x64\\PACKAGE.XSD\n",
      "C:\\SQL2022\\Express_ENU\\x64\\PIDGENX.DLL\n",
      "C:\\SQL2022\\Express_ENU\\x64\\PIDPRIVATECONFIGOBJECTMAPS.XML\n",
      "C:\\SQL2022\\Express_ENU\\x64\\PREPARECLUSTERWIZARD.XML\n",
      "C:\\SQL2022\\Express_ENU\\x64\\PREPAREIMAGEWIZARD.XML\n",
      "C:\\SQL2022\\Express_ENU\\x64\\REMOVENODE.XML\n",
      "C:\\SQL2022\\Express_ENU\\x64\\REPAIRWIZARD.XML\n",
      "C:\\SQL2022\\Express_ENU\\x64\\RSETUP.EXE\n",
      "C:\\SQL2022\\Express_ENU\\x64\\RUNRULESUI.XML\n",
      "C:\\SQL2022\\Express_ENU\\x64\\SCENARIOENGINE.EXE\n",
      "C:\\SQL2022\\Express_ENU\\x64\\SCENARIOENGINE.EXE.CONFIG\n",
      "C:\\SQL2022\\Express_ENU\\x64\\SHELLOBJECTS.DLL\n",
      "C:\\SQL2022\\Express_ENU\\x64\\SQLBOOT.DLL\n",
      "C:\\SQL2022\\Express_ENU\\x64\\SQLCAB.DLL\n",
      "C:\\SQL2022\\Express_ENU\\x64\\SQLCONF.DLL\n",
      "C:\\SQL2022\\Express_ENU\\x64\\SQLMU.DLL\n",
      "C:\\SQL2022\\Express_ENU\\x64\\SQLPROCESSSUB.DLL\n",
      "C:\\SQL2022\\Express_ENU\\x64\\SQLSCCN.DLL\n",
      "C:\\SQL2022\\Express_ENU\\x64\\SYSTEM.NET.HTTP.DLL\n",
      "C:\\SQL2022\\Express_ENU\\x64\\UNINSTALLWIZARD.XML\n",
      "C:\\SQL2022\\Express_ENU\\x64\\UPGRADEWIZARD.XML\n",
      "C:\\SQL2022\\Express_ENU\\x64\\VCCORLIB140.DLL\n",
      "C:\\SQL2022\\Express_ENU\\x64\\VCRUNTIME140.DLL\n",
      "C:\\SQL2022\\Express_ENU\\x64\\VCRUNTIME140_1.DLL\n",
      "C:\\SQL2022\\Express_ENU\\x64\\Setup\n",
      "C:\\SQL2022\\Express_ENU\\AUTORUN.INF\n",
      "C:\\SQL2022\\Express_ENU\\MEDIAINFO.XML\n",
      "C:\\SQL2022\\Express_ENU\\PackageId.dat\n",
      "C:\\SQL2022\\Express_ENU\\SETUP.EXE\n",
      "C:\\SQL2022\\Express_ENU\\SETUP.EXE.CONFIG\n",
      "C:\\SQL2022\\Express_ENU\\SqlServerInstallConfig.ini\n",
      "C:\\SQL2022\\Express_ENU\\SQLSETUPBOOTSTRAPPER.DLL\n",
      "C:\\SQL2022\\Express_ENU\\1033_ENU_LP\n",
      "C:\\SQL2022\\Express_ENU\\redist\n",
      "C:\\SQL2022\\Express_ENU\\resources\n",
      "C:\\SQL2022\\Express_ENU\\x64\n",
      "C:\\SQL2022\\RulesEng\\1033_ENU_LP\\MEDIAINFO.XML\n",
      "C:\\SQL2022\\RulesEng\\resources\\1033\\SETUP.RLL\n",
      "C:\\SQL2022\\RulesEng\\resources\\1033\n",
      "C:\\SQL2022\\RulesEng\\x64\\ADDNODE.XML\n",
      "C:\\SQL2022\\RulesEng\\x64\\COMPLETECLUSTERWIZARD.XML\n",
      "C:\\SQL2022\\RulesEng\\x64\\COMPLETEIMAGEWIZARD.XML\n",
      "C:\\SQL2022\\RulesEng\\x64\\COMPONENTUPDATE.XML\n",
      "C:\\SQL2022\\RulesEng\\x64\\CONFIGURATION.UICFG\n",
      "C:\\SQL2022\\RulesEng\\x64\\EDITIONUPGRADEWIZARD.XML\n",
      "C:\\SQL2022\\RulesEng\\x64\\FIXSQLREGISTRYKEY_X64.EXE\n",
      "C:\\SQL2022\\RulesEng\\x64\\FIXSQLREGISTRYKEY_X64.EXE.CONFIG\n",
      "C:\\SQL2022\\RulesEng\\x64\\FIXSQLREGISTRYKEY_X86.EXE\n",
      "C:\\SQL2022\\RulesEng\\x64\\FIXSQLREGISTRYKEY_X86.EXE.CONFIG\n",
      "C:\\SQL2022\\RulesEng\\x64\\INSTALLCLUSTERWIZARD.XML\n",
      "C:\\SQL2022\\RulesEng\\x64\\INSTALLWIZARD.XML\n",
      "C:\\SQL2022\\RulesEng\\x64\\INSTAPI160.DLL\n",
      "C:\\SQL2022\\RulesEng\\x64\\LANDINGPAGE.EXE\n",
      "C:\\SQL2022\\RulesEng\\x64\\LANDINGPAGE.EXE.CONFIG\n",
      "C:\\SQL2022\\RulesEng\\x64\\MICROSOFT.ANALYSISSERVICES.ADOMDCLIENT.DLL\n",
      "C:\\SQL2022\\RulesEng\\x64\\MICROSOFT.ANALYSISSERVICES.CORE.DLL\n",
      "C:\\SQL2022\\RulesEng\\x64\\MICROSOFT.ANALYSISSERVICES.DLL\n",
      "C:\\SQL2022\\RulesEng\\x64\\MICROSOFT.ANALYSISSERVICES.SPCLIENT.INTERFACES.DLL\n",
      "C:\\SQL2022\\RulesEng\\x64\\MICROSOFT.ANALYSISSERVICES.TABULAR.DLL\n",
      "C:\\SQL2022\\RulesEng\\x64\\MICROSOFT.ANALYSISSERVICES.TABULAR.JSON.DLL\n",
      "C:\\SQL2022\\RulesEng\\x64\\MICROSOFT.DIAGNOSTICS.TRACING.EVENTSOURCE.DLL\n",
      "C:\\SQL2022\\RulesEng\\x64\\MICROSOFT.IDENTITY.CLIENT.DLL\n",
      "C:\\SQL2022\\RulesEng\\x64\\MICROSOFT.IDENTITYMODEL.CLIENTS.ACTIVEDIRECTORY.DLL\n",
      "C:\\SQL2022\\RulesEng\\x64\\MICROSOFT.NETENTERPRISESERVERS.EXCEPTIONMESSAGEBOX.DLL\n",
      "C:\\SQL2022\\RulesEng\\x64\\MICROSOFT.SQL.CHAINER.PACKAGE.DLL\n",
      "C:\\SQL2022\\RulesEng\\x64\\MICROSOFT.SQL.CHAINER.PACKAGE.XMLSERIALIZERS.DLL\n",
      "C:\\SQL2022\\RulesEng\\x64\\MICROSOFT.SQL.CHAINER.PACKAGEDATA.DLL\n",
      "C:\\SQL2022\\RulesEng\\x64\\MICROSOFT.SQL.CHAINER.PRODUCT.DLL\n",
      "C:\\SQL2022\\RulesEng\\x64\\MICROSOFT.SQL.CHAINER.PRODUCT.XMLSERIALIZERS.DLL\n",
      "C:\\SQL2022\\RulesEng\\x64\\MICROSOFT.SQLSERVER.CHAINER.EXTENSIONCOMMON.DLL\n",
      "C:\\SQL2022\\RulesEng\\x64\\MICROSOFT.SQLSERVER.CHAINER.EXTENSIONCOMMON.XMLSERIALIZERS.DLL\n",
      "C:\\SQL2022\\RulesEng\\x64\\MICROSOFT.SQLSERVER.CHAINER.INFRASTRUCTURE.DLL\n",
      "C:\\SQL2022\\RulesEng\\x64\\MICROSOFT.SQLSERVER.CHAINER.INFRASTRUCTURE.XMLSERIALIZERS.DLL\n",
      "C:\\SQL2022\\RulesEng\\x64\\MICROSOFT.SQLSERVER.CHAINER.WORKFLOWDATA.DLL\n",
      "C:\\SQL2022\\RulesEng\\x64\\MICROSOFT.SQLSERVER.CHAINER.WORKFLOWDATA.XMLSERIALIZERS.DLL\n",
      "C:\\SQL2022\\RulesEng\\x64\\MICROSOFT.SQLSERVER.CONFIGURATION.AGENTEXTENSION.DLL\n",
      "C:\\SQL2022\\RulesEng\\x64\\MICROSOFT.SQLSERVER.CONFIGURATION.ARCONBOARD.DLL\n",
      "C:\\SQL2022\\RulesEng\\x64\\MICROSOFT.SQLSERVER.CONFIGURATION.ASEXTENSION.DLL\n",
      "C:\\SQL2022\\RulesEng\\x64\\MICROSOFT.SQLSERVER.CONFIGURATION.ASTELEMETRYEXTENSION.DLL\n",
      "C:\\SQL2022\\RulesEng\\x64\\MICROSOFT.SQLSERVER.CONFIGURATION.BOOTSTRAPEXTENSION.DLL\n",
      "C:\\SQL2022\\RulesEng\\x64\\MICROSOFT.SQLSERVER.CONFIGURATION.BOOTSTRAPEXTENSION.XMLSERIALIZERS.DLL\n",
      "C:\\SQL2022\\RulesEng\\x64\\MICROSOFT.SQLSERVER.CONFIGURATION.CLUSTER.DLL\n",
      "C:\\SQL2022\\RulesEng\\x64\\MICROSOFT.SQLSERVER.CONFIGURATION.CLUSTER.XMLSERIALIZERS.DLL\n",
      "C:\\SQL2022\\RulesEng\\x64\\MICROSOFT.SQLSERVER.CONFIGURATION.CONFIGEXTENSION.DLL\n",
      "C:\\SQL2022\\RulesEng\\x64\\MICROSOFT.SQLSERVER.CONFIGURATION.CONFIGEXTENSION.XMLSERIALIZERS.DLL\n",
      "C:\\SQL2022\\RulesEng\\x64\\MICROSOFT.SQLSERVER.CONFIGURATION.DLL\n",
      "C:\\SQL2022\\RulesEng\\x64\\MICROSOFT.SQLSERVER.CONFIGURATION.EXTENSIBILITY_CONFIGEXTENSION.DLL\n",
      "C:\\SQL2022\\RulesEng\\x64\\MICROSOFT.SQLSERVER.CONFIGURATION.FULLTEXT_CONFIGEXTENSION.DLL\n",
      "C:\\SQL2022\\RulesEng\\x64\\MICROSOFT.SQLSERVER.CONFIGURATION.IMPY_CONFIGEXTENSION.DLL\n",
      "C:\\SQL2022\\RulesEng\\x64\\MICROSOFT.SQLSERVER.CONFIGURATION.IMR_CONFIGEXTENSION.DLL\n",
      "C:\\SQL2022\\RulesEng\\x64\\MICROSOFT.SQLSERVER.CONFIGURATION.INSTALLWIZARD.DLL\n",
      "C:\\SQL2022\\RulesEng\\x64\\MICROSOFT.SQLSERVER.CONFIGURATION.INSTALLWIZARDFRAMEWORK.DLL\n",
      "C:\\SQL2022\\RulesEng\\x64\\MICROSOFT.SQLSERVER.CONFIGURATION.INSTALLWIZARDFRAMEWORK.XMLSERIALIZERS.DLL\n",
      "C:\\SQL2022\\RulesEng\\x64\\MICROSOFT.SQLSERVER.CONFIGURATION.ISMASTEREXTENSION.DLL\n",
      "C:\\SQL2022\\RulesEng\\x64\\MICROSOFT.SQLSERVER.CONFIGURATION.ISTELEMETRYCONFIGEXTENSION.DLL\n",
      "C:\\SQL2022\\RulesEng\\x64\\MICROSOFT.SQLSERVER.CONFIGURATION.ISWORKEREXTENSION.DLL\n",
      "C:\\SQL2022\\RulesEng\\x64\\MICROSOFT.SQLSERVER.CONFIGURATION.MANAGEMENTTOOLSEXTENSION.DLL\n",
      "C:\\SQL2022\\RulesEng\\x64\\MICROSOFT.SQLSERVER.CONFIGURATION.MSIEXTENSION.DLL\n",
      "C:\\SQL2022\\RulesEng\\x64\\MICROSOFT.SQLSERVER.CONFIGURATION.MSIEXTENSION.XMLSERIALIZERS.DLL\n",
      "C:\\SQL2022\\RulesEng\\x64\\MICROSOFT.SQLSERVER.CONFIGURATION.POLYBASECONFIGEXTENSION.DLL\n",
      "C:\\SQL2022\\RulesEng\\x64\\MICROSOFT.SQLSERVER.CONFIGURATION.POWERSHELLEXTENSION.DLL\n",
      "C:\\SQL2022\\RulesEng\\x64\\MICROSOFT.SQLSERVER.CONFIGURATION.REPL_CONFIGEXTENSION.DLL\n",
      "C:\\SQL2022\\RulesEng\\x64\\MICROSOFT.SQLSERVER.CONFIGURATION.RSEXTENSION.DLL\n",
      "C:\\SQL2022\\RulesEng\\x64\\MICROSOFT.SQLSERVER.CONFIGURATION.RULESENGINEEXTENSION.DLL\n",
      "C:\\SQL2022\\RulesEng\\x64\\MICROSOFT.SQLSERVER.CONFIGURATION.RULESENGINEEXTENSION.XMLSERIALIZERS.DLL\n",
      "C:\\SQL2022\\RulesEng\\x64\\MICROSOFT.SQLSERVER.CONFIGURATION.SCO.DLL\n",
      "C:\\SQL2022\\RulesEng\\x64\\MICROSOFT.SQLSERVER.CONFIGURATION.SCO.XMLSERIALIZERS.DLL\n",
      "C:\\SQL2022\\RulesEng\\x64\\MICROSOFT.SQLSERVER.CONFIGURATION.SCOEXTENSION.DLL\n",
      "C:\\SQL2022\\RulesEng\\x64\\MICROSOFT.SQLSERVER.CONFIGURATION.SETUPEXTENSION.DLL\n",
      "C:\\SQL2022\\RulesEng\\x64\\MICROSOFT.SQLSERVER.CONFIGURATION.SETUPEXTENSION.XMLSERIALIZERS.DLL\n",
      "C:\\SQL2022\\RulesEng\\x64\\MICROSOFT.SQLSERVER.CONFIGURATION.SLPEXTENSION.DLL\n",
      "C:\\SQL2022\\RulesEng\\x64\\MICROSOFT.SQLSERVER.CONFIGURATION.SMARTSETUPEXTENSION.DLL\n",
      "C:\\SQL2022\\RulesEng\\x64\\MICROSOFT.SQLSERVER.CONFIGURATION.SMARTSETUPEXTENSION.XMLSERIALIZERS.DLL\n",
      "C:\\SQL2022\\RulesEng\\x64\\MICROSOFT.SQLSERVER.CONFIGURATION.SNISERVERCONFIGEXT.DLL\n",
      "C:\\SQL2022\\RulesEng\\x64\\MICROSOFT.SQLSERVER.CONFIGURATION.SQLBROWSEREXTENSION.DLL\n",
      "C:\\SQL2022\\RulesEng\\x64\\MICROSOFT.SQLSERVER.CONFIGURATION.SQLCONFIGBASE.DLL\n",
      "C:\\SQL2022\\RulesEng\\x64\\MICROSOFT.SQLSERVER.CONFIGURATION.SQLCONFIGBASE.XMLSERIALIZERS.DLL\n",
      "C:\\SQL2022\\RulesEng\\x64\\MICROSOFT.SQLSERVER.CONFIGURATION.SQLSERVER_CONFIGEXTENSION.DLL\n",
      "C:\\SQL2022\\RulesEng\\x64\\MICROSOFT.SQLSERVER.CONFIGURATION.SSISEXTENSION.DLL\n",
      "C:\\SQL2022\\RulesEng\\x64\\MICROSOFT.SQLSERVER.CONFIGURATION.TELEMETRYCONFIGEXTENSION.DLL\n",
      "C:\\SQL2022\\RulesEng\\x64\\MICROSOFT.SQLSERVER.CONFIGURATION.UIEXTENSION.DLL\n",
      "C:\\SQL2022\\RulesEng\\x64\\MICROSOFT.SQLSERVER.CONFIGURATION.UIEXTENSION.XMLSERIALIZERS.DLL\n",
      "C:\\SQL2022\\RulesEng\\x64\\MICROSOFT.SQLSERVER.CONFIGURATION.UTILITYEXTENSION.DLL\n",
      "C:\\SQL2022\\RulesEng\\x64\\MICROSOFT.SQLSERVER.CONFIGURATION.WIZARDFRAMEWORK.DLL\n",
      "C:\\SQL2022\\RulesEng\\x64\\MICROSOFT.SQLSERVER.CONFIGURATION.WIZARDFRAMEWORK.XMLSERIALIZERS.DLL\n",
      "C:\\SQL2022\\RulesEng\\x64\\MICROSOFT.SQLSERVER.CONFIGURATION.WMIINTEROP.DLL\n",
      "C:\\SQL2022\\RulesEng\\x64\\MICROSOFT.SQLSERVER.CONFIGURATION.XMLSERIALIZERS.DLL\n",
      "C:\\SQL2022\\RulesEng\\x64\\MICROSOFT.SQLSERVER.CONFIGURATION.XTP.CONFIGEXTENSION.DLL\n",
      "C:\\SQL2022\\RulesEng\\x64\\MICROSOFT.SQLSERVER.CONNECTIONINFO.DLL\n",
      "C:\\SQL2022\\RulesEng\\x64\\MICROSOFT.SQLSERVER.CUSTOMCONTROLS.DLL\n",
      "C:\\SQL2022\\RulesEng\\x64\\MICROSOFT.SQLSERVER.DATAWAREHOUSE.WORKLOADDEPLOYMENT.DLL\n",
      "C:\\SQL2022\\RulesEng\\x64\\MICROSOFT.SQLSERVER.DEPLOYMENT.DLL\n",
      "C:\\SQL2022\\RulesEng\\x64\\MICROSOFT.SQLSERVER.DEPLOYMENT.XMLSERIALIZERS.DLL\n",
      "C:\\SQL2022\\RulesEng\\x64\\MICROSOFT.SQLSERVER.DIAGNOSTICS.STRACE.DLL\n",
      "C:\\SQL2022\\RulesEng\\x64\\MICROSOFT.SQLSERVER.DISCOVERY.DLL\n",
      "C:\\SQL2022\\RulesEng\\x64\\MICROSOFT.SQLSERVER.DISCOVERY.XMLSERIALIZERS.DLL\n",
      "C:\\SQL2022\\RulesEng\\x64\\MICROSOFT.SQLSERVER.DMF.COMMON.DLL\n",
      "C:\\SQL2022\\RulesEng\\x64\\MICROSOFT.SQLSERVER.DMF.DLL\n",
      "C:\\SQL2022\\RulesEng\\x64\\MICROSOFT.SQLSERVER.INSTAPI.DLL\n",
      "C:\\SQL2022\\RulesEng\\x64\\MICROSOFT.SQLSERVER.INTEROP.FIREWALLAPI.DLL\n",
      "C:\\SQL2022\\RulesEng\\x64\\MICROSOFT.SQLSERVER.INTEROP.TASKSCHD.DLL\n",
      "C:\\SQL2022\\RulesEng\\x64\\MICROSOFT.SQLSERVER.INTEROP.WUAPILIB.DLL\n",
      "C:\\SQL2022\\RulesEng\\x64\\MICROSOFT.SQLSERVER.MANAGEMENT.CONTROLS.DLL\n",
      "C:\\SQL2022\\RulesEng\\x64\\MICROSOFT.SQLSERVER.MANAGEMENT.SDK.SFC.DLL\n",
      "C:\\SQL2022\\RulesEng\\x64\\MICROSOFT.SQLSERVER.SETUP.CHAINER.WORKFLOW.DLL\n",
      "C:\\SQL2022\\RulesEng\\x64\\MICROSOFT.SQLSERVER.SETUP.CHAINER.WORKFLOW.XMLSERIALIZERS.DLL\n",
      "C:\\SQL2022\\RulesEng\\x64\\MICROSOFT.SQLSERVER.SMO.DLL\n",
      "C:\\SQL2022\\RulesEng\\x64\\MICROSOFT.SQLSERVER.SQLCLRPROVIDER.DLL\n",
      "C:\\SQL2022\\RulesEng\\x64\\MICROSOFT.SQLSERVER.SQLENUM.DLL\n",
      "C:\\SQL2022\\RulesEng\\x64\\MICROSOFT.SQLSERVER.SSTRING.DLL\n",
      "C:\\SQL2022\\RulesEng\\x64\\MICROSOFT.SQLSERVER.USAGETRACKING.DLL\n",
      "C:\\SQL2022\\RulesEng\\x64\\MSVCP140.DLL\n",
      "C:\\SQL2022\\RulesEng\\x64\\MSVCP140_1.DLL\n",
      "C:\\SQL2022\\RulesEng\\x64\\MSVCP140_2.DLL\n",
      "C:\\SQL2022\\RulesEng\\x64\\MSVCP140_ATOMIC_WAIT.DLL\n",
      "C:\\SQL2022\\RulesEng\\x64\\MSVCP140_CODECVT_IDS.DLL\n",
      "C:\\SQL2022\\RulesEng\\x64\\NEWTONSOFT.JSON.DLL\n",
      "C:\\SQL2022\\RulesEng\\x64\\PACKAGE.XSD\n",
      "C:\\SQL2022\\RulesEng\\x64\\PIDGENX.DLL\n",
      "C:\\SQL2022\\RulesEng\\x64\\PIDPRIVATECONFIGOBJECTMAPS.XML\n",
      "C:\\SQL2022\\RulesEng\\x64\\PREPARECLUSTERWIZARD.XML\n",
      "C:\\SQL2022\\RulesEng\\x64\\PREPAREIMAGEWIZARD.XML\n",
      "C:\\SQL2022\\RulesEng\\x64\\REMOVENODE.XML\n",
      "C:\\SQL2022\\RulesEng\\x64\\REPAIRWIZARD.XML\n",
      "C:\\SQL2022\\RulesEng\\x64\\RSETUP.EXE\n",
      "C:\\SQL2022\\RulesEng\\x64\\RUNRULESUI.XML\n",
      "C:\\SQL2022\\RulesEng\\x64\\SCENARIOENGINE.EXE\n",
      "C:\\SQL2022\\RulesEng\\x64\\SCENARIOENGINE.EXE.CONFIG\n",
      "C:\\SQL2022\\RulesEng\\x64\\SHELLOBJECTS.DLL\n",
      "C:\\SQL2022\\RulesEng\\x64\\SQLBOOT.DLL\n",
      "C:\\SQL2022\\RulesEng\\x64\\SQLCAB.DLL\n",
      "C:\\SQL2022\\RulesEng\\x64\\SQLCONF.DLL\n",
      "C:\\SQL2022\\RulesEng\\x64\\SQLMU.DLL\n",
      "C:\\SQL2022\\RulesEng\\x64\\SQLPROCESSSUB.DLL\n",
      "C:\\SQL2022\\RulesEng\\x64\\SQLSCCN.DLL\n",
      "C:\\SQL2022\\RulesEng\\x64\\SYSTEM.NET.HTTP.DLL\n",
      "C:\\SQL2022\\RulesEng\\x64\\UNINSTALLWIZARD.XML\n",
      "C:\\SQL2022\\RulesEng\\x64\\UPGRADEWIZARD.XML\n",
      "C:\\SQL2022\\RulesEng\\x64\\VCCORLIB140.DLL\n",
      "C:\\SQL2022\\RulesEng\\x64\\VCRUNTIME140.DLL\n",
      "C:\\SQL2022\\RulesEng\\x64\\VCRUNTIME140_1.DLL\n",
      "C:\\SQL2022\\RulesEng\\MEDIAINFO.XML\n",
      "C:\\SQL2022\\RulesEng\\PackageId.dat\n",
      "C:\\SQL2022\\RulesEng\\SETUP.EXE\n",
      "C:\\SQL2022\\RulesEng\\SETUP.EXE.CONFIG\n",
      "C:\\SQL2022\\RulesEng\\SQLSETUPBOOTSTRAPPER.DLL\n",
      "C:\\SQL2022\\RulesEng\\1033_ENU_LP\n",
      "C:\\SQL2022\\RulesEng\\resources\n",
      "C:\\SQL2022\\RulesEng\\x64\n",
      "C:\\SQL2022\\Expr_filelist_ENU.snp\n",
      "C:\\SQL2022\\re_filelist.snp\n",
      "C:\\SQL2022\\Express_ENU\n",
      "C:\\SQL2022\\RulesEng\n"
     ]
    }
   ],
   "source": [
    "# recursive file and folder\n",
    "for root , dirs, files in os.walk(\"C:\\SQL2022\" , topdown=False):\n",
    "    for name in files:\n",
    "        print(os.path.join(root, name))\n",
    "    for name in dirs:\n",
    "        print(os.path.join(root, name))    "
   ]
  },
  {
   "cell_type": "code",
   "execution_count": null,
   "metadata": {},
   "outputs": [],
   "source": []
  }
 ],
 "metadata": {
  "kernelspec": {
   "display_name": "base",
   "language": "python",
   "name": "python3"
  },
  "language_info": {
   "codemirror_mode": {
    "name": "ipython",
    "version": 3
   },
   "file_extension": ".py",
   "mimetype": "text/x-python",
   "name": "python",
   "nbconvert_exporter": "python",
   "pygments_lexer": "ipython3",
   "version": "3.10.10"
  },
  "orig_nbformat": 4
 },
 "nbformat": 4,
 "nbformat_minor": 2
}
